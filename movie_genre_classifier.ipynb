{
 "cells": [
  {
   "cell_type": "markdown",
   "id": "e4100389",
   "metadata": {},
   "source": [
    "# AI Fall 00 - Computer Assignment 3"
   ]
  },
  {
   "cell_type": "markdown",
   "id": "2f3c28cd",
   "metadata": {},
   "source": [
    "<div style=\"font-size: 16px;\">\n",
    "<b>Paria Khoshtab 810198387</b>\n",
    "<hr>\n",
    "</div>"
   ]
  },
  {
   "cell_type": "markdown",
   "id": "a67f25d6",
   "metadata": {},
   "source": [
    "<span style='color: #3973ac; font-size: 23px'><b>\n",
    "Goal\n",
    "</b></span>"
   ]
  },
  {
   "cell_type": "markdown",
   "id": "b0e1b6fa",
   "metadata": {},
   "source": [
    " - Getting more familiar with machine learning methods by Sickit-Learn library\n",
    " - Analyzing data\n",
    " - Preprocessing methods\n",
    " - Feature extraction from text\n",
    " - Decision tree and random forrest models and optimization of these models"
   ]
  },
  {
   "cell_type": "markdown",
   "id": "92000041",
   "metadata": {},
   "source": [
    "<span style='color: #3973ac; font-size: 23px'><b>\n",
    "Brief Description\n",
    "</b></span>"
   ]
  },
  {
   "cell_type": "markdown",
   "id": "b0949cf3",
   "metadata": {},
   "source": [
    "In this problem we are given a dataset, which is containing a number of movies and TV series available on the Netflix site\n",
    "and Amazon. During this project, we are going to predict the type of film column."
   ]
  },
  {
   "cell_type": "markdown",
   "id": "8629a18e",
   "metadata": {},
   "source": [
    "<span style='color: #3973ac; font-size: 23px'><b>\n",
    "Implementation\n",
    "</b></span>"
   ]
  },
  {
   "cell_type": "markdown",
   "id": "71ef8d5c",
   "metadata": {},
   "source": [
    "First we have to import necessary libraries."
   ]
  },
  {
   "cell_type": "code",
   "execution_count": 1,
   "id": "5ec5eede",
   "metadata": {},
   "outputs": [],
   "source": [
    "import numpy as np\n",
    "import pandas as pd\n",
    "import matplotlib.pyplot as plt\n",
    "from matplotlib import *\n",
    "from sklearn import preprocessing\n",
    "from sklearn.feature_extraction.text import CountVectorizer\n",
    "from sklearn.feature_selection import mutual_info_classif\n",
    "from sklearn import tree\n",
    "from sklearn.model_selection import train_test_split\n",
    "from sklearn.metrics import confusion_matrix\n",
    "from sklearn.model_selection import GridSearchCV\n",
    "from sklearn.tree import DecisionTreeClassifier\n",
    "from sklearn.metrics import accuracy_score\n",
    "from sklearn.ensemble import RandomForestClassifier\n",
    "from sklearn import metrics "
   ]
  },
  {
   "cell_type": "markdown",
   "id": "2a19babc",
   "metadata": {},
   "source": [
    "In the code below, we read the dataset and store it in a dataframe."
   ]
  },
  {
   "cell_type": "code",
   "execution_count": 2,
   "id": "b97ce376",
   "metadata": {},
   "outputs": [
    {
     "data": {
      "text/html": [
       "<div>\n",
       "<style scoped>\n",
       "    .dataframe tbody tr th:only-of-type {\n",
       "        vertical-align: middle;\n",
       "    }\n",
       "\n",
       "    .dataframe tbody tr th {\n",
       "        vertical-align: top;\n",
       "    }\n",
       "\n",
       "    .dataframe thead th {\n",
       "        text-align: right;\n",
       "    }\n",
       "</style>\n",
       "<table border=\"1\" class=\"dataframe\">\n",
       "  <thead>\n",
       "    <tr style=\"text-align: right;\">\n",
       "      <th></th>\n",
       "      <th>type</th>\n",
       "      <th>title</th>\n",
       "      <th>cast</th>\n",
       "      <th>country</th>\n",
       "      <th>release_year</th>\n",
       "      <th>listed_in</th>\n",
       "      <th>description</th>\n",
       "    </tr>\n",
       "  </thead>\n",
       "  <tbody>\n",
       "    <tr>\n",
       "      <th>0</th>\n",
       "      <td>Movie</td>\n",
       "      <td>Dick Johnson Is Dead</td>\n",
       "      <td>NaN</td>\n",
       "      <td>United States</td>\n",
       "      <td>2020</td>\n",
       "      <td>Documentaries</td>\n",
       "      <td>As her father nears the end of his life, filmm...</td>\n",
       "    </tr>\n",
       "    <tr>\n",
       "      <th>1</th>\n",
       "      <td>TV Show</td>\n",
       "      <td>Blood &amp; Water</td>\n",
       "      <td>Ama Qamata, Khosi Ngema, Gail Mabalane, Thaban...</td>\n",
       "      <td>South Africa</td>\n",
       "      <td>2021</td>\n",
       "      <td>International TV Shows, TV Dramas, TV Mysteries</td>\n",
       "      <td>After crossing paths at a party, a Cape Town t...</td>\n",
       "    </tr>\n",
       "    <tr>\n",
       "      <th>2</th>\n",
       "      <td>TV Show</td>\n",
       "      <td>Ganglands</td>\n",
       "      <td>Sami Bouajila, Tracy Gotoas, Samuel Jouy, Nabi...</td>\n",
       "      <td>NaN</td>\n",
       "      <td>2021</td>\n",
       "      <td>Crime TV Shows, International TV Shows, TV Act...</td>\n",
       "      <td>To protect his family from a powerful drug lor...</td>\n",
       "    </tr>\n",
       "    <tr>\n",
       "      <th>3</th>\n",
       "      <td>TV Show</td>\n",
       "      <td>Jailbirds New Orleans</td>\n",
       "      <td>NaN</td>\n",
       "      <td>NaN</td>\n",
       "      <td>2021</td>\n",
       "      <td>Docuseries, Reality TV</td>\n",
       "      <td>Feuds, flirtations and toilet talk go down amo...</td>\n",
       "    </tr>\n",
       "    <tr>\n",
       "      <th>4</th>\n",
       "      <td>TV Show</td>\n",
       "      <td>Kota Factory</td>\n",
       "      <td>Mayur More, Jitendra Kumar, Ranjan Raj, Alam K...</td>\n",
       "      <td>India</td>\n",
       "      <td>2021</td>\n",
       "      <td>International TV Shows, Romantic TV Shows, TV ...</td>\n",
       "      <td>In a city of coaching centers known to train I...</td>\n",
       "    </tr>\n",
       "  </tbody>\n",
       "</table>\n",
       "</div>"
      ],
      "text/plain": [
       "      type                  title  \\\n",
       "0    Movie   Dick Johnson Is Dead   \n",
       "1  TV Show          Blood & Water   \n",
       "2  TV Show              Ganglands   \n",
       "3  TV Show  Jailbirds New Orleans   \n",
       "4  TV Show           Kota Factory   \n",
       "\n",
       "                                                cast        country  \\\n",
       "0                                                NaN  United States   \n",
       "1  Ama Qamata, Khosi Ngema, Gail Mabalane, Thaban...   South Africa   \n",
       "2  Sami Bouajila, Tracy Gotoas, Samuel Jouy, Nabi...            NaN   \n",
       "3                                                NaN            NaN   \n",
       "4  Mayur More, Jitendra Kumar, Ranjan Raj, Alam K...          India   \n",
       "\n",
       "   release_year                                          listed_in  \\\n",
       "0          2020                                      Documentaries   \n",
       "1          2021    International TV Shows, TV Dramas, TV Mysteries   \n",
       "2          2021  Crime TV Shows, International TV Shows, TV Act...   \n",
       "3          2021                             Docuseries, Reality TV   \n",
       "4          2021  International TV Shows, Romantic TV Shows, TV ...   \n",
       "\n",
       "                                         description  \n",
       "0  As her father nears the end of his life, filmm...  \n",
       "1  After crossing paths at a party, a Cape Town t...  \n",
       "2  To protect his family from a powerful drug lor...  \n",
       "3  Feuds, flirtations and toilet talk go down amo...  \n",
       "4  In a city of coaching centers known to train I...  "
      ]
     },
     "execution_count": 2,
     "metadata": {},
     "output_type": "execute_result"
    }
   ],
   "source": [
    "df = pd.read_csv(\"dataset.csv\")\n",
    "df.head(5)"
   ]
  },
  {
   "cell_type": "markdown",
   "id": "0035e549",
   "metadata": {},
   "source": [
    "<span style='color: #3973ac; font-size: 25px'><b>\n",
    "Phase Zero: Data analysis\n",
    "</b></span>"
   ]
  },
  {
   "cell_type": "markdown",
   "id": "ccb59418",
   "metadata": {},
   "source": [
    "### Question 1"
   ]
  },
  {
   "cell_type": "code",
   "execution_count": 3,
   "id": "15b88a90",
   "metadata": {},
   "outputs": [
    {
     "data": {
      "text/html": [
       "<div>\n",
       "<style scoped>\n",
       "    .dataframe tbody tr th:only-of-type {\n",
       "        vertical-align: middle;\n",
       "    }\n",
       "\n",
       "    .dataframe tbody tr th {\n",
       "        vertical-align: top;\n",
       "    }\n",
       "\n",
       "    .dataframe thead th {\n",
       "        text-align: right;\n",
       "    }\n",
       "</style>\n",
       "<table border=\"1\" class=\"dataframe\">\n",
       "  <thead>\n",
       "    <tr style=\"text-align: right;\">\n",
       "      <th></th>\n",
       "      <th>release_year</th>\n",
       "    </tr>\n",
       "  </thead>\n",
       "  <tbody>\n",
       "    <tr>\n",
       "      <th>count</th>\n",
       "      <td>11059.000000</td>\n",
       "    </tr>\n",
       "    <tr>\n",
       "      <th>mean</th>\n",
       "      <td>2014.209603</td>\n",
       "    </tr>\n",
       "    <tr>\n",
       "      <th>std</th>\n",
       "      <td>8.959517</td>\n",
       "    </tr>\n",
       "    <tr>\n",
       "      <th>min</th>\n",
       "      <td>1925.000000</td>\n",
       "    </tr>\n",
       "    <tr>\n",
       "      <th>25%</th>\n",
       "      <td>2013.000000</td>\n",
       "    </tr>\n",
       "    <tr>\n",
       "      <th>50%</th>\n",
       "      <td>2017.000000</td>\n",
       "    </tr>\n",
       "    <tr>\n",
       "      <th>75%</th>\n",
       "      <td>2019.000000</td>\n",
       "    </tr>\n",
       "    <tr>\n",
       "      <th>max</th>\n",
       "      <td>2021.000000</td>\n",
       "    </tr>\n",
       "  </tbody>\n",
       "</table>\n",
       "</div>"
      ],
      "text/plain": [
       "       release_year\n",
       "count  11059.000000\n",
       "mean    2014.209603\n",
       "std        8.959517\n",
       "min     1925.000000\n",
       "25%     2013.000000\n",
       "50%     2017.000000\n",
       "75%     2019.000000\n",
       "max     2021.000000"
      ]
     },
     "execution_count": 3,
     "metadata": {},
     "output_type": "execute_result"
    }
   ],
   "source": [
    "df.describe()"
   ]
  },
  {
   "cell_type": "code",
   "execution_count": 4,
   "id": "637faae0",
   "metadata": {
    "scrolled": true
   },
   "outputs": [
    {
     "name": "stdout",
     "output_type": "stream",
     "text": [
      "<class 'pandas.core.frame.DataFrame'>\n",
      "RangeIndex: 11059 entries, 0 to 11058\n",
      "Data columns (total 7 columns):\n",
      " #   Column        Non-Null Count  Dtype \n",
      "---  ------        --------------  ----- \n",
      " 0   type          11059 non-null  object\n",
      " 1   title         11059 non-null  object\n",
      " 2   cast          9694 non-null   object\n",
      " 3   country       8364 non-null   object\n",
      " 4   release_year  11059 non-null  int64 \n",
      " 5   listed_in     11059 non-null  object\n",
      " 6   description   11059 non-null  object\n",
      "dtypes: int64(1), object(6)\n",
      "memory usage: 604.9+ KB\n"
     ]
    }
   ],
   "source": [
    "df.info()"
   ]
  },
  {
   "cell_type": "markdown",
   "id": "57704026",
   "metadata": {},
   "source": [
    "### Question 2"
   ]
  },
  {
   "cell_type": "code",
   "execution_count": 5,
   "id": "d12b742d",
   "metadata": {},
   "outputs": [
    {
     "name": "stdout",
     "output_type": "stream",
     "text": [
      "Percentage of missing data: \n",
      "type             0.000000\n",
      "title            0.000000\n",
      "cast            12.342888\n",
      "country         24.369292\n",
      "release_year     0.000000\n",
      "listed_in        0.000000\n",
      "description      0.000000\n",
      "dtype: float64\n"
     ]
    }
   ],
   "source": [
    "print('Percentage of missing data: ')\n",
    "print(df.isna().sum()/len(df)*100)"
   ]
  },
  {
   "cell_type": "markdown",
   "id": "7e00a7dc",
   "metadata": {},
   "source": [
    "<span style='color: #3973ac; font-size: 25px'><b>\n",
    "Phase One: Preprocessing\n",
    "</b> </span>"
   ]
  },
  {
   "cell_type": "markdown",
   "id": "685f6f3f",
   "metadata": {},
   "source": [
    "### Question 1"
   ]
  },
  {
   "cell_type": "markdown",
   "id": "49891110",
   "metadata": {},
   "source": [
    " - <b>Removing Rows With Missing Values:</b>\n",
    "        In this case, we remove all the rows which contain missing values. \n",
    "        This can easily be done with the dropna() function.<br></li>\n",
    " - <b>Filling out Missing Values: </b>\n",
    "    In this case, we have several options to assign appropriate values. The most common ones are column Mean,\n",
    "    Median or Mode of the data. Also we can fill NA with a constant value.\n",
    "\n",
    "We use the method of filling the missing data with mode, because columns with missing values are categorical.\n",
    "Also it might not be the best approach to\n",
    "remove the rows containing missing values if such rows are abundant. They might contain valuable data\n",
    "in other columns and we don't want to skew the data towards an inaccurate state.\n",
    "As we saw in the previous section, a large percentage of the cast and country attributes is NA, so removing rows with missing \n",
    "values might lead to data loss.\n"
   ]
  },
  {
   "cell_type": "markdown",
   "id": "9ed79daa",
   "metadata": {},
   "source": [
    "Note that we fill the missing values of the cast column with the mode of all the actors in this column.(after splitting)"
   ]
  },
  {
   "cell_type": "code",
   "execution_count": 6,
   "id": "c4d271ac",
   "metadata": {
    "scrolled": true
   },
   "outputs": [],
   "source": [
    "df['country'].fillna(df['country'].mode()[0], inplace=True)\n",
    "df['cast'].fillna(df['cast'].str.split(', ').explode().dropna().mode()[0], inplace=True)"
   ]
  },
  {
   "cell_type": "markdown",
   "id": "359aefaa",
   "metadata": {},
   "source": [
    "### Question 2"
   ]
  },
  {
   "cell_type": "markdown",
   "id": "17c6a0eb",
   "metadata": {},
   "source": [
    " - <b>Normalization:</b>\n",
    "        Normalization is a scaling technique in which values are shifted and rescaled so that they end up ranging between 0 and\n",
    "        1. It is also known as Min-Max scaling. The new point is calculated as:\n",
    "            $\\frac{X - X_(min)}{X_(max) - X_(min)}$</li>\n",
    " - <b>Standardization:</b>\n",
    "    Standardization or Z-Score Normalization is the transformation of features by subtracting from mean and dividing\n",
    "    by standard deviation. In this case the mean of the attribute becomes zero and the resultant distribution has a unit standard \n",
    "    deviation.\n",
    "    The new point is calculated as: $\\frac{X - mean}{std}$</li>\n",
    "\n",
    "We do not use any scaling techniques like Normalization or Standardization, because tree-based algorithms are fairly insensitive\n",
    "to the scale of the features. A decision tree is only splitting a node based on a single feature.\n",
    "This split on a feature is not influenced by other features.\n",
    "So, there is virtually no effect of the remaining features on the split. \n",
    "This is what makes them invariant to the scale of the features!<br>\n",
    "E.g., without any scaling if it asks the model whether 5 > X > -5,   \n",
    "then, scaling it will ask the model whether 1 > X > -1.\n"
   ]
  },
  {
   "cell_type": "markdown",
   "id": "e697ac22",
   "metadata": {},
   "source": [
    "### Question 3"
   ]
  },
  {
   "cell_type": "markdown",
   "id": "f8e6ae23",
   "metadata": {},
   "source": [
    " - <b>Label Encoding:</b>\n",
    "        This approach is very simple and it involves converting each value in a column to a number. <br></li>\n",
    " - <b>One-Hot Encoding: </b>\n",
    "    In this strategy, each category value is converted into a new column and assigned a 1 or 0 (notation for true/false)\n",
    "    value to the column.</li>\n",
    "\n",
    "We use the method of Label Encoding because we have many unique values in our category columns like country, \n",
    "this can cause the number of columns to expand greatly in the method of One-Hot Encoding."
   ]
  },
  {
   "cell_type": "markdown",
   "id": "7de98d3d",
   "metadata": {},
   "source": [
    "\n",
    "<b>Column `type` Label Encoding</b>"
   ]
  },
  {
   "cell_type": "code",
   "execution_count": 7,
   "id": "e721ad66",
   "metadata": {},
   "outputs": [
    {
     "data": {
      "text/html": [
       "<div>\n",
       "<style scoped>\n",
       "    .dataframe tbody tr th:only-of-type {\n",
       "        vertical-align: middle;\n",
       "    }\n",
       "\n",
       "    .dataframe tbody tr th {\n",
       "        vertical-align: top;\n",
       "    }\n",
       "\n",
       "    .dataframe thead th {\n",
       "        text-align: right;\n",
       "    }\n",
       "</style>\n",
       "<table border=\"1\" class=\"dataframe\">\n",
       "  <thead>\n",
       "    <tr style=\"text-align: right;\">\n",
       "      <th></th>\n",
       "      <th>type</th>\n",
       "      <th>title</th>\n",
       "      <th>cast</th>\n",
       "      <th>country</th>\n",
       "      <th>release_year</th>\n",
       "      <th>listed_in</th>\n",
       "      <th>description</th>\n",
       "    </tr>\n",
       "  </thead>\n",
       "  <tbody>\n",
       "    <tr>\n",
       "      <th>0</th>\n",
       "      <td>0</td>\n",
       "      <td>Dick Johnson Is Dead</td>\n",
       "      <td>Anupam Kher</td>\n",
       "      <td>United States</td>\n",
       "      <td>2020</td>\n",
       "      <td>Documentaries</td>\n",
       "      <td>As her father nears the end of his life, filmm...</td>\n",
       "    </tr>\n",
       "    <tr>\n",
       "      <th>1</th>\n",
       "      <td>1</td>\n",
       "      <td>Blood &amp; Water</td>\n",
       "      <td>Ama Qamata, Khosi Ngema, Gail Mabalane, Thaban...</td>\n",
       "      <td>South Africa</td>\n",
       "      <td>2021</td>\n",
       "      <td>International TV Shows, TV Dramas, TV Mysteries</td>\n",
       "      <td>After crossing paths at a party, a Cape Town t...</td>\n",
       "    </tr>\n",
       "    <tr>\n",
       "      <th>2</th>\n",
       "      <td>1</td>\n",
       "      <td>Ganglands</td>\n",
       "      <td>Sami Bouajila, Tracy Gotoas, Samuel Jouy, Nabi...</td>\n",
       "      <td>United States</td>\n",
       "      <td>2021</td>\n",
       "      <td>Crime TV Shows, International TV Shows, TV Act...</td>\n",
       "      <td>To protect his family from a powerful drug lor...</td>\n",
       "    </tr>\n",
       "    <tr>\n",
       "      <th>3</th>\n",
       "      <td>1</td>\n",
       "      <td>Jailbirds New Orleans</td>\n",
       "      <td>Anupam Kher</td>\n",
       "      <td>United States</td>\n",
       "      <td>2021</td>\n",
       "      <td>Docuseries, Reality TV</td>\n",
       "      <td>Feuds, flirtations and toilet talk go down amo...</td>\n",
       "    </tr>\n",
       "    <tr>\n",
       "      <th>4</th>\n",
       "      <td>1</td>\n",
       "      <td>Kota Factory</td>\n",
       "      <td>Mayur More, Jitendra Kumar, Ranjan Raj, Alam K...</td>\n",
       "      <td>India</td>\n",
       "      <td>2021</td>\n",
       "      <td>International TV Shows, Romantic TV Shows, TV ...</td>\n",
       "      <td>In a city of coaching centers known to train I...</td>\n",
       "    </tr>\n",
       "  </tbody>\n",
       "</table>\n",
       "</div>"
      ],
      "text/plain": [
       "   type                  title  \\\n",
       "0     0   Dick Johnson Is Dead   \n",
       "1     1          Blood & Water   \n",
       "2     1              Ganglands   \n",
       "3     1  Jailbirds New Orleans   \n",
       "4     1           Kota Factory   \n",
       "\n",
       "                                                cast        country  \\\n",
       "0                                        Anupam Kher  United States   \n",
       "1  Ama Qamata, Khosi Ngema, Gail Mabalane, Thaban...   South Africa   \n",
       "2  Sami Bouajila, Tracy Gotoas, Samuel Jouy, Nabi...  United States   \n",
       "3                                        Anupam Kher  United States   \n",
       "4  Mayur More, Jitendra Kumar, Ranjan Raj, Alam K...          India   \n",
       "\n",
       "   release_year                                          listed_in  \\\n",
       "0          2020                                      Documentaries   \n",
       "1          2021    International TV Shows, TV Dramas, TV Mysteries   \n",
       "2          2021  Crime TV Shows, International TV Shows, TV Act...   \n",
       "3          2021                             Docuseries, Reality TV   \n",
       "4          2021  International TV Shows, Romantic TV Shows, TV ...   \n",
       "\n",
       "                                         description  \n",
       "0  As her father nears the end of his life, filmm...  \n",
       "1  After crossing paths at a party, a Cape Town t...  \n",
       "2  To protect his family from a powerful drug lor...  \n",
       "3  Feuds, flirtations and toilet talk go down amo...  \n",
       "4  In a city of coaching centers known to train I...  "
      ]
     },
     "execution_count": 7,
     "metadata": {},
     "output_type": "execute_result"
    }
   ],
   "source": [
    "labelencoder = preprocessing.LabelEncoder()\n",
    "df['type'] = labelencoder.fit_transform(df['type'])\n",
    "df.head(5)"
   ]
  },
  {
   "cell_type": "markdown",
   "id": "5a8ac354",
   "metadata": {},
   "source": [
    "### Question 4"
   ]
  },
  {
   "cell_type": "markdown",
   "id": "4af05517",
   "metadata": {},
   "source": [
    " 1. Each category value(after splitting values) is converted into a new column and assigned a 1 or 0 \n",
    "    (notation for true/false) value to the column.\n",
    "\n",
    " 2. We add a fixed number of columns (3 for genres and 2 for countries) to the data frame and replace the corresponding value \n",
    "    in the series data (after splitting) in each column. If the number of added columns is more than the number of values in each row, we fill\n",
    "the rest of the columns with the value of the first column.\n",
    " \n",
    "We use the second method because we have many unique values in our category columns like country, this can cause\n",
    "the number of columns to expand greatly in the first method.\n"
   ]
  },
  {
   "cell_type": "markdown",
   "id": "90b0bba6",
   "metadata": {},
   "source": [
    "<b>Column `listed_in` Label Encoding</b>"
   ]
  },
  {
   "cell_type": "markdown",
   "id": "242d73ae",
   "metadata": {},
   "source": [
    "First we, add 3 columns to separate `listed_in` column series data using the second method mentioned above."
   ]
  },
  {
   "cell_type": "code",
   "execution_count": 8,
   "id": "99da2ae1",
   "metadata": {},
   "outputs": [
    {
     "data": {
      "text/html": [
       "<div>\n",
       "<style scoped>\n",
       "    .dataframe tbody tr th:only-of-type {\n",
       "        vertical-align: middle;\n",
       "    }\n",
       "\n",
       "    .dataframe tbody tr th {\n",
       "        vertical-align: top;\n",
       "    }\n",
       "\n",
       "    .dataframe thead th {\n",
       "        text-align: right;\n",
       "    }\n",
       "</style>\n",
       "<table border=\"1\" class=\"dataframe\">\n",
       "  <thead>\n",
       "    <tr style=\"text-align: right;\">\n",
       "      <th></th>\n",
       "      <th>type</th>\n",
       "      <th>title</th>\n",
       "      <th>cast</th>\n",
       "      <th>country</th>\n",
       "      <th>release_year</th>\n",
       "      <th>description</th>\n",
       "      <th>genre1</th>\n",
       "      <th>genre2</th>\n",
       "      <th>genre3</th>\n",
       "    </tr>\n",
       "  </thead>\n",
       "  <tbody>\n",
       "    <tr>\n",
       "      <th>0</th>\n",
       "      <td>0</td>\n",
       "      <td>Dick Johnson Is Dead</td>\n",
       "      <td>Anupam Kher</td>\n",
       "      <td>United States</td>\n",
       "      <td>2020</td>\n",
       "      <td>As her father nears the end of his life, filmm...</td>\n",
       "      <td>Documentaries</td>\n",
       "      <td>Documentaries</td>\n",
       "      <td>Documentaries</td>\n",
       "    </tr>\n",
       "    <tr>\n",
       "      <th>1</th>\n",
       "      <td>1</td>\n",
       "      <td>Blood &amp; Water</td>\n",
       "      <td>Ama Qamata, Khosi Ngema, Gail Mabalane, Thaban...</td>\n",
       "      <td>South Africa</td>\n",
       "      <td>2021</td>\n",
       "      <td>After crossing paths at a party, a Cape Town t...</td>\n",
       "      <td>International TV Shows</td>\n",
       "      <td>TV Dramas</td>\n",
       "      <td>TV Mysteries</td>\n",
       "    </tr>\n",
       "    <tr>\n",
       "      <th>2</th>\n",
       "      <td>1</td>\n",
       "      <td>Ganglands</td>\n",
       "      <td>Sami Bouajila, Tracy Gotoas, Samuel Jouy, Nabi...</td>\n",
       "      <td>United States</td>\n",
       "      <td>2021</td>\n",
       "      <td>To protect his family from a powerful drug lor...</td>\n",
       "      <td>Crime TV Shows</td>\n",
       "      <td>International TV Shows</td>\n",
       "      <td>TV Action &amp; Adventure</td>\n",
       "    </tr>\n",
       "    <tr>\n",
       "      <th>3</th>\n",
       "      <td>1</td>\n",
       "      <td>Jailbirds New Orleans</td>\n",
       "      <td>Anupam Kher</td>\n",
       "      <td>United States</td>\n",
       "      <td>2021</td>\n",
       "      <td>Feuds, flirtations and toilet talk go down amo...</td>\n",
       "      <td>Docuseries</td>\n",
       "      <td>Reality TV</td>\n",
       "      <td>Docuseries</td>\n",
       "    </tr>\n",
       "    <tr>\n",
       "      <th>4</th>\n",
       "      <td>1</td>\n",
       "      <td>Kota Factory</td>\n",
       "      <td>Mayur More, Jitendra Kumar, Ranjan Raj, Alam K...</td>\n",
       "      <td>India</td>\n",
       "      <td>2021</td>\n",
       "      <td>In a city of coaching centers known to train I...</td>\n",
       "      <td>International TV Shows</td>\n",
       "      <td>Romantic TV Shows</td>\n",
       "      <td>TV Comedies</td>\n",
       "    </tr>\n",
       "  </tbody>\n",
       "</table>\n",
       "</div>"
      ],
      "text/plain": [
       "   type                  title  \\\n",
       "0     0   Dick Johnson Is Dead   \n",
       "1     1          Blood & Water   \n",
       "2     1              Ganglands   \n",
       "3     1  Jailbirds New Orleans   \n",
       "4     1           Kota Factory   \n",
       "\n",
       "                                                cast        country  \\\n",
       "0                                        Anupam Kher  United States   \n",
       "1  Ama Qamata, Khosi Ngema, Gail Mabalane, Thaban...   South Africa   \n",
       "2  Sami Bouajila, Tracy Gotoas, Samuel Jouy, Nabi...  United States   \n",
       "3                                        Anupam Kher  United States   \n",
       "4  Mayur More, Jitendra Kumar, Ranjan Raj, Alam K...          India   \n",
       "\n",
       "   release_year                                        description  \\\n",
       "0          2020  As her father nears the end of his life, filmm...   \n",
       "1          2021  After crossing paths at a party, a Cape Town t...   \n",
       "2          2021  To protect his family from a powerful drug lor...   \n",
       "3          2021  Feuds, flirtations and toilet talk go down amo...   \n",
       "4          2021  In a city of coaching centers known to train I...   \n",
       "\n",
       "                   genre1                  genre2                 genre3  \n",
       "0           Documentaries           Documentaries          Documentaries  \n",
       "1  International TV Shows               TV Dramas           TV Mysteries  \n",
       "2          Crime TV Shows  International TV Shows  TV Action & Adventure  \n",
       "3              Docuseries              Reality TV             Docuseries  \n",
       "4  International TV Shows       Romantic TV Shows            TV Comedies  "
      ]
     },
     "execution_count": 8,
     "metadata": {},
     "output_type": "execute_result"
    }
   ],
   "source": [
    "genres = df['listed_in'].str.split(', ', n = 4, expand = True)\n",
    "df['genre1']= genres[0]\n",
    "df['genre2']= genres[1]\n",
    "df['genre3']= genres[2]\n",
    "df.genre2.fillna(df.genre1, inplace=True)\n",
    "df.genre3.fillna(df.genre1, inplace=True)\n",
    "df = df.drop(['listed_in'], axis=1)\n",
    "df.head(5)"
   ]
  },
  {
   "cell_type": "markdown",
   "id": "ba6429be",
   "metadata": {},
   "source": [
    "Then, we label `genre1`, `genre2`, and `genre` columns using the Label Encoding method, mentioned above."
   ]
  },
  {
   "cell_type": "code",
   "execution_count": 9,
   "id": "23017ab1",
   "metadata": {
    "scrolled": true
   },
   "outputs": [
    {
     "data": {
      "text/html": [
       "<div>\n",
       "<style scoped>\n",
       "    .dataframe tbody tr th:only-of-type {\n",
       "        vertical-align: middle;\n",
       "    }\n",
       "\n",
       "    .dataframe tbody tr th {\n",
       "        vertical-align: top;\n",
       "    }\n",
       "\n",
       "    .dataframe thead th {\n",
       "        text-align: right;\n",
       "    }\n",
       "</style>\n",
       "<table border=\"1\" class=\"dataframe\">\n",
       "  <thead>\n",
       "    <tr style=\"text-align: right;\">\n",
       "      <th></th>\n",
       "      <th>type</th>\n",
       "      <th>title</th>\n",
       "      <th>cast</th>\n",
       "      <th>country</th>\n",
       "      <th>release_year</th>\n",
       "      <th>description</th>\n",
       "      <th>genre1</th>\n",
       "      <th>genre2</th>\n",
       "      <th>genre3</th>\n",
       "    </tr>\n",
       "  </thead>\n",
       "  <tbody>\n",
       "    <tr>\n",
       "      <th>0</th>\n",
       "      <td>0</td>\n",
       "      <td>Dick Johnson Is Dead</td>\n",
       "      <td>Anupam Kher</td>\n",
       "      <td>United States</td>\n",
       "      <td>2020</td>\n",
       "      <td>As her father nears the end of his life, filmm...</td>\n",
       "      <td>22</td>\n",
       "      <td>19</td>\n",
       "      <td>20</td>\n",
       "    </tr>\n",
       "    <tr>\n",
       "      <th>1</th>\n",
       "      <td>1</td>\n",
       "      <td>Blood &amp; Water</td>\n",
       "      <td>Ama Qamata, Khosi Ngema, Gail Mabalane, Thaban...</td>\n",
       "      <td>South Africa</td>\n",
       "      <td>2021</td>\n",
       "      <td>After crossing paths at a party, a Cape Town t...</td>\n",
       "      <td>37</td>\n",
       "      <td>69</td>\n",
       "      <td>79</td>\n",
       "    </tr>\n",
       "    <tr>\n",
       "      <th>2</th>\n",
       "      <td>1</td>\n",
       "      <td>Ganglands</td>\n",
       "      <td>Sami Bouajila, Tracy Gotoas, Samuel Jouy, Nabi...</td>\n",
       "      <td>United States</td>\n",
       "      <td>2021</td>\n",
       "      <td>To protect his family from a powerful drug lor...</td>\n",
       "      <td>20</td>\n",
       "      <td>37</td>\n",
       "      <td>75</td>\n",
       "    </tr>\n",
       "    <tr>\n",
       "      <th>3</th>\n",
       "      <td>1</td>\n",
       "      <td>Jailbirds New Orleans</td>\n",
       "      <td>Anupam Kher</td>\n",
       "      <td>United States</td>\n",
       "      <td>2021</td>\n",
       "      <td>Feuds, flirtations and toilet talk go down amo...</td>\n",
       "      <td>24</td>\n",
       "      <td>51</td>\n",
       "      <td>22</td>\n",
       "    </tr>\n",
       "    <tr>\n",
       "      <th>4</th>\n",
       "      <td>1</td>\n",
       "      <td>Kota Factory</td>\n",
       "      <td>Mayur More, Jitendra Kumar, Ranjan Raj, Alam K...</td>\n",
       "      <td>India</td>\n",
       "      <td>2021</td>\n",
       "      <td>In a city of coaching centers known to train I...</td>\n",
       "      <td>37</td>\n",
       "      <td>54</td>\n",
       "      <td>76</td>\n",
       "    </tr>\n",
       "  </tbody>\n",
       "</table>\n",
       "</div>"
      ],
      "text/plain": [
       "   type                  title  \\\n",
       "0     0   Dick Johnson Is Dead   \n",
       "1     1          Blood & Water   \n",
       "2     1              Ganglands   \n",
       "3     1  Jailbirds New Orleans   \n",
       "4     1           Kota Factory   \n",
       "\n",
       "                                                cast        country  \\\n",
       "0                                        Anupam Kher  United States   \n",
       "1  Ama Qamata, Khosi Ngema, Gail Mabalane, Thaban...   South Africa   \n",
       "2  Sami Bouajila, Tracy Gotoas, Samuel Jouy, Nabi...  United States   \n",
       "3                                        Anupam Kher  United States   \n",
       "4  Mayur More, Jitendra Kumar, Ranjan Raj, Alam K...          India   \n",
       "\n",
       "   release_year                                        description  genre1  \\\n",
       "0          2020  As her father nears the end of his life, filmm...      22   \n",
       "1          2021  After crossing paths at a party, a Cape Town t...      37   \n",
       "2          2021  To protect his family from a powerful drug lor...      20   \n",
       "3          2021  Feuds, flirtations and toilet talk go down amo...      24   \n",
       "4          2021  In a city of coaching centers known to train I...      37   \n",
       "\n",
       "   genre2  genre3  \n",
       "0      19      20  \n",
       "1      69      79  \n",
       "2      37      75  \n",
       "3      51      22  \n",
       "4      54      76  "
      ]
     },
     "execution_count": 9,
     "metadata": {},
     "output_type": "execute_result"
    }
   ],
   "source": [
    "df['genre1'] = labelencoder.fit_transform(df['genre1'])\n",
    "df['genre2'] = labelencoder.fit_transform(df['genre2'])\n",
    "df['genre3'] = labelencoder.fit_transform(df['genre3'])\n",
    "df.head(5)"
   ]
  },
  {
   "cell_type": "markdown",
   "id": "eb7a64bf",
   "metadata": {},
   "source": [
    "<b>Column `country` Label Encoding</b>"
   ]
  },
  {
   "cell_type": "markdown",
   "id": "4fd92d4e",
   "metadata": {},
   "source": [
    "First we, add 2 columns to separate `country` column series data using the second method mentioned above."
   ]
  },
  {
   "cell_type": "code",
   "execution_count": 10,
   "id": "0b895036",
   "metadata": {
    "scrolled": true
   },
   "outputs": [
    {
     "data": {
      "text/html": [
       "<div>\n",
       "<style scoped>\n",
       "    .dataframe tbody tr th:only-of-type {\n",
       "        vertical-align: middle;\n",
       "    }\n",
       "\n",
       "    .dataframe tbody tr th {\n",
       "        vertical-align: top;\n",
       "    }\n",
       "\n",
       "    .dataframe thead th {\n",
       "        text-align: right;\n",
       "    }\n",
       "</style>\n",
       "<table border=\"1\" class=\"dataframe\">\n",
       "  <thead>\n",
       "    <tr style=\"text-align: right;\">\n",
       "      <th></th>\n",
       "      <th>type</th>\n",
       "      <th>title</th>\n",
       "      <th>cast</th>\n",
       "      <th>release_year</th>\n",
       "      <th>description</th>\n",
       "      <th>genre1</th>\n",
       "      <th>genre2</th>\n",
       "      <th>genre3</th>\n",
       "      <th>country1</th>\n",
       "      <th>country2</th>\n",
       "    </tr>\n",
       "  </thead>\n",
       "  <tbody>\n",
       "    <tr>\n",
       "      <th>0</th>\n",
       "      <td>0</td>\n",
       "      <td>Dick Johnson Is Dead</td>\n",
       "      <td>Anupam Kher</td>\n",
       "      <td>2020</td>\n",
       "      <td>As her father nears the end of his life, filmm...</td>\n",
       "      <td>22</td>\n",
       "      <td>19</td>\n",
       "      <td>20</td>\n",
       "      <td>United States</td>\n",
       "      <td>United States</td>\n",
       "    </tr>\n",
       "    <tr>\n",
       "      <th>1</th>\n",
       "      <td>1</td>\n",
       "      <td>Blood &amp; Water</td>\n",
       "      <td>Ama Qamata, Khosi Ngema, Gail Mabalane, Thaban...</td>\n",
       "      <td>2021</td>\n",
       "      <td>After crossing paths at a party, a Cape Town t...</td>\n",
       "      <td>37</td>\n",
       "      <td>69</td>\n",
       "      <td>79</td>\n",
       "      <td>South Africa</td>\n",
       "      <td>South Africa</td>\n",
       "    </tr>\n",
       "    <tr>\n",
       "      <th>2</th>\n",
       "      <td>1</td>\n",
       "      <td>Ganglands</td>\n",
       "      <td>Sami Bouajila, Tracy Gotoas, Samuel Jouy, Nabi...</td>\n",
       "      <td>2021</td>\n",
       "      <td>To protect his family from a powerful drug lor...</td>\n",
       "      <td>20</td>\n",
       "      <td>37</td>\n",
       "      <td>75</td>\n",
       "      <td>United States</td>\n",
       "      <td>United States</td>\n",
       "    </tr>\n",
       "    <tr>\n",
       "      <th>3</th>\n",
       "      <td>1</td>\n",
       "      <td>Jailbirds New Orleans</td>\n",
       "      <td>Anupam Kher</td>\n",
       "      <td>2021</td>\n",
       "      <td>Feuds, flirtations and toilet talk go down amo...</td>\n",
       "      <td>24</td>\n",
       "      <td>51</td>\n",
       "      <td>22</td>\n",
       "      <td>United States</td>\n",
       "      <td>United States</td>\n",
       "    </tr>\n",
       "    <tr>\n",
       "      <th>4</th>\n",
       "      <td>1</td>\n",
       "      <td>Kota Factory</td>\n",
       "      <td>Mayur More, Jitendra Kumar, Ranjan Raj, Alam K...</td>\n",
       "      <td>2021</td>\n",
       "      <td>In a city of coaching centers known to train I...</td>\n",
       "      <td>37</td>\n",
       "      <td>54</td>\n",
       "      <td>76</td>\n",
       "      <td>India</td>\n",
       "      <td>India</td>\n",
       "    </tr>\n",
       "  </tbody>\n",
       "</table>\n",
       "</div>"
      ],
      "text/plain": [
       "   type                  title  \\\n",
       "0     0   Dick Johnson Is Dead   \n",
       "1     1          Blood & Water   \n",
       "2     1              Ganglands   \n",
       "3     1  Jailbirds New Orleans   \n",
       "4     1           Kota Factory   \n",
       "\n",
       "                                                cast  release_year  \\\n",
       "0                                        Anupam Kher          2020   \n",
       "1  Ama Qamata, Khosi Ngema, Gail Mabalane, Thaban...          2021   \n",
       "2  Sami Bouajila, Tracy Gotoas, Samuel Jouy, Nabi...          2021   \n",
       "3                                        Anupam Kher          2021   \n",
       "4  Mayur More, Jitendra Kumar, Ranjan Raj, Alam K...          2021   \n",
       "\n",
       "                                         description  genre1  genre2  genre3  \\\n",
       "0  As her father nears the end of his life, filmm...      22      19      20   \n",
       "1  After crossing paths at a party, a Cape Town t...      37      69      79   \n",
       "2  To protect his family from a powerful drug lor...      20      37      75   \n",
       "3  Feuds, flirtations and toilet talk go down amo...      24      51      22   \n",
       "4  In a city of coaching centers known to train I...      37      54      76   \n",
       "\n",
       "        country1       country2  \n",
       "0  United States  United States  \n",
       "1   South Africa   South Africa  \n",
       "2  United States  United States  \n",
       "3  United States  United States  \n",
       "4          India          India  "
      ]
     },
     "execution_count": 10,
     "metadata": {},
     "output_type": "execute_result"
    }
   ],
   "source": [
    "countries = df['country'].str.split(', ', n = 3, expand = True)\n",
    "df[\"country1\"]= countries[0]\n",
    "df[\"country2\"]= countries[1]\n",
    "df.country2.fillna(df.country1, inplace=True)\n",
    "df = df.drop(['country'], axis=1)\n",
    "df.head(5)"
   ]
  },
  {
   "cell_type": "markdown",
   "id": "89b13da3",
   "metadata": {},
   "source": [
    "Then, we label `country1` and `country2` columns using the Label Encoding method, mentioned above."
   ]
  },
  {
   "cell_type": "code",
   "execution_count": 11,
   "id": "ea908388",
   "metadata": {},
   "outputs": [
    {
     "data": {
      "text/html": [
       "<div>\n",
       "<style scoped>\n",
       "    .dataframe tbody tr th:only-of-type {\n",
       "        vertical-align: middle;\n",
       "    }\n",
       "\n",
       "    .dataframe tbody tr th {\n",
       "        vertical-align: top;\n",
       "    }\n",
       "\n",
       "    .dataframe thead th {\n",
       "        text-align: right;\n",
       "    }\n",
       "</style>\n",
       "<table border=\"1\" class=\"dataframe\">\n",
       "  <thead>\n",
       "    <tr style=\"text-align: right;\">\n",
       "      <th></th>\n",
       "      <th>type</th>\n",
       "      <th>title</th>\n",
       "      <th>cast</th>\n",
       "      <th>release_year</th>\n",
       "      <th>description</th>\n",
       "      <th>genre1</th>\n",
       "      <th>genre2</th>\n",
       "      <th>genre3</th>\n",
       "      <th>country1</th>\n",
       "      <th>country2</th>\n",
       "    </tr>\n",
       "  </thead>\n",
       "  <tbody>\n",
       "    <tr>\n",
       "      <th>0</th>\n",
       "      <td>0</td>\n",
       "      <td>Dick Johnson Is Dead</td>\n",
       "      <td>Anupam Kher</td>\n",
       "      <td>2020</td>\n",
       "      <td>As her father nears the end of his life, filmm...</td>\n",
       "      <td>22</td>\n",
       "      <td>19</td>\n",
       "      <td>20</td>\n",
       "      <td>82</td>\n",
       "      <td>96</td>\n",
       "    </tr>\n",
       "    <tr>\n",
       "      <th>1</th>\n",
       "      <td>1</td>\n",
       "      <td>Blood &amp; Water</td>\n",
       "      <td>Ama Qamata, Khosi Ngema, Gail Mabalane, Thaban...</td>\n",
       "      <td>2021</td>\n",
       "      <td>After crossing paths at a party, a Cape Town t...</td>\n",
       "      <td>37</td>\n",
       "      <td>69</td>\n",
       "      <td>79</td>\n",
       "      <td>68</td>\n",
       "      <td>81</td>\n",
       "    </tr>\n",
       "    <tr>\n",
       "      <th>2</th>\n",
       "      <td>1</td>\n",
       "      <td>Ganglands</td>\n",
       "      <td>Sami Bouajila, Tracy Gotoas, Samuel Jouy, Nabi...</td>\n",
       "      <td>2021</td>\n",
       "      <td>To protect his family from a powerful drug lor...</td>\n",
       "      <td>20</td>\n",
       "      <td>37</td>\n",
       "      <td>75</td>\n",
       "      <td>82</td>\n",
       "      <td>96</td>\n",
       "    </tr>\n",
       "    <tr>\n",
       "      <th>3</th>\n",
       "      <td>1</td>\n",
       "      <td>Jailbirds New Orleans</td>\n",
       "      <td>Anupam Kher</td>\n",
       "      <td>2021</td>\n",
       "      <td>Feuds, flirtations and toilet talk go down amo...</td>\n",
       "      <td>24</td>\n",
       "      <td>51</td>\n",
       "      <td>22</td>\n",
       "      <td>82</td>\n",
       "      <td>96</td>\n",
       "    </tr>\n",
       "    <tr>\n",
       "      <th>4</th>\n",
       "      <td>1</td>\n",
       "      <td>Kota Factory</td>\n",
       "      <td>Mayur More, Jitendra Kumar, Ranjan Raj, Alam K...</td>\n",
       "      <td>2021</td>\n",
       "      <td>In a city of coaching centers known to train I...</td>\n",
       "      <td>37</td>\n",
       "      <td>54</td>\n",
       "      <td>76</td>\n",
       "      <td>30</td>\n",
       "      <td>37</td>\n",
       "    </tr>\n",
       "  </tbody>\n",
       "</table>\n",
       "</div>"
      ],
      "text/plain": [
       "   type                  title  \\\n",
       "0     0   Dick Johnson Is Dead   \n",
       "1     1          Blood & Water   \n",
       "2     1              Ganglands   \n",
       "3     1  Jailbirds New Orleans   \n",
       "4     1           Kota Factory   \n",
       "\n",
       "                                                cast  release_year  \\\n",
       "0                                        Anupam Kher          2020   \n",
       "1  Ama Qamata, Khosi Ngema, Gail Mabalane, Thaban...          2021   \n",
       "2  Sami Bouajila, Tracy Gotoas, Samuel Jouy, Nabi...          2021   \n",
       "3                                        Anupam Kher          2021   \n",
       "4  Mayur More, Jitendra Kumar, Ranjan Raj, Alam K...          2021   \n",
       "\n",
       "                                         description  genre1  genre2  genre3  \\\n",
       "0  As her father nears the end of his life, filmm...      22      19      20   \n",
       "1  After crossing paths at a party, a Cape Town t...      37      69      79   \n",
       "2  To protect his family from a powerful drug lor...      20      37      75   \n",
       "3  Feuds, flirtations and toilet talk go down amo...      24      51      22   \n",
       "4  In a city of coaching centers known to train I...      37      54      76   \n",
       "\n",
       "   country1  country2  \n",
       "0        82        96  \n",
       "1        68        81  \n",
       "2        82        96  \n",
       "3        82        96  \n",
       "4        30        37  "
      ]
     },
     "execution_count": 11,
     "metadata": {},
     "output_type": "execute_result"
    }
   ],
   "source": [
    "df['country1'] = labelencoder.fit_transform(df['country1'])\n",
    "df['country2'] = labelencoder.fit_transform(df['country2'])\n",
    "df.head(5)"
   ]
  },
  {
   "cell_type": "markdown",
   "id": "329796b6",
   "metadata": {},
   "source": [
    "<span style='color: #3973ac; font-size: 23px'><b>\n",
    "Feature Extraction from Text\n",
    "</b></span>"
   ]
  },
  {
   "cell_type": "markdown",
   "id": "4301fada",
   "metadata": {},
   "source": [
    "**Count Vectorizer** and **TF-IDF** are both methods for converting text data into vectors, because as far as we know, computers \n",
    "can only understand numerical data, while natural language data, for computers, are just text strings without any numerical \n",
    "or statistical information.<br>\n",
    "\n",
    " - <b>Count Vectorizer:</b>\n",
    "        Count Vectorizer is a way to convert a given set of strings into a frequency representation. <br></li>\n",
    " - <b>TF-IDF: </b>\n",
    "    TF-IDF means Term Frequency - Inverse Document Frequency. This is a statistic that is based on the frequency of a word\n",
    "    in the text but it also provides a numerical representation of how important a word is for statistical analysis.\n",
    "\n",
    "Large number of features can cause poor performance for machine learning algorithms.\n",
    "By increasing number of features in the feature data set, we may not always have an \n",
    "increase in performance, because there may be a case, were some features are irrelevant or redundant given the ones \n",
    "already extracted, so this may lead to an non-optimal predictive model in terms of performance and also overfitting.\n",
    "<br><br>\n",
    "We use Count Vectorizer method for extracting features from the text columns(title, description, and cast) in the dataframe.\n"
   ]
  },
  {
   "cell_type": "markdown",
   "id": "83b842cd",
   "metadata": {},
   "source": [
    "<b>Feature extraction from `cast`</b>"
   ]
  },
  {
   "cell_type": "code",
   "execution_count": 12,
   "id": "8ea1842c",
   "metadata": {
    "scrolled": false
   },
   "outputs": [
    {
     "data": {
      "text/html": [
       "<div>\n",
       "<style scoped>\n",
       "    .dataframe tbody tr th:only-of-type {\n",
       "        vertical-align: middle;\n",
       "    }\n",
       "\n",
       "    .dataframe tbody tr th {\n",
       "        vertical-align: top;\n",
       "    }\n",
       "\n",
       "    .dataframe thead th {\n",
       "        text-align: right;\n",
       "    }\n",
       "</style>\n",
       "<table border=\"1\" class=\"dataframe\">\n",
       "  <thead>\n",
       "    <tr style=\"text-align: right;\">\n",
       "      <th></th>\n",
       "      <th>type</th>\n",
       "      <th>title</th>\n",
       "      <th>release_year</th>\n",
       "      <th>description</th>\n",
       "      <th>genre1</th>\n",
       "      <th>genre2</th>\n",
       "      <th>genre3</th>\n",
       "      <th>country1</th>\n",
       "      <th>country2</th>\n",
       "      <th>akshay kumar</th>\n",
       "      <th>anupam kher</th>\n",
       "      <th>fred tatasciore</th>\n",
       "      <th>julie tejwani</th>\n",
       "      <th>naseeruddin shah</th>\n",
       "      <th>om puri</th>\n",
       "      <th>rupa bhimani</th>\n",
       "      <th>shah rukh khan</th>\n",
       "      <th>takahiro sakurai</th>\n",
       "      <th>yuki kaji</th>\n",
       "    </tr>\n",
       "  </thead>\n",
       "  <tbody>\n",
       "    <tr>\n",
       "      <th>0</th>\n",
       "      <td>0</td>\n",
       "      <td>Dick Johnson Is Dead</td>\n",
       "      <td>2020</td>\n",
       "      <td>As her father nears the end of his life, filmm...</td>\n",
       "      <td>22</td>\n",
       "      <td>19</td>\n",
       "      <td>20</td>\n",
       "      <td>82</td>\n",
       "      <td>96</td>\n",
       "      <td>0</td>\n",
       "      <td>1</td>\n",
       "      <td>0</td>\n",
       "      <td>0</td>\n",
       "      <td>0</td>\n",
       "      <td>0</td>\n",
       "      <td>0</td>\n",
       "      <td>0</td>\n",
       "      <td>0</td>\n",
       "      <td>0</td>\n",
       "    </tr>\n",
       "    <tr>\n",
       "      <th>1</th>\n",
       "      <td>1</td>\n",
       "      <td>Blood &amp; Water</td>\n",
       "      <td>2021</td>\n",
       "      <td>After crossing paths at a party, a Cape Town t...</td>\n",
       "      <td>37</td>\n",
       "      <td>69</td>\n",
       "      <td>79</td>\n",
       "      <td>68</td>\n",
       "      <td>81</td>\n",
       "      <td>0</td>\n",
       "      <td>0</td>\n",
       "      <td>0</td>\n",
       "      <td>0</td>\n",
       "      <td>0</td>\n",
       "      <td>0</td>\n",
       "      <td>0</td>\n",
       "      <td>0</td>\n",
       "      <td>0</td>\n",
       "      <td>0</td>\n",
       "    </tr>\n",
       "    <tr>\n",
       "      <th>2</th>\n",
       "      <td>1</td>\n",
       "      <td>Ganglands</td>\n",
       "      <td>2021</td>\n",
       "      <td>To protect his family from a powerful drug lor...</td>\n",
       "      <td>20</td>\n",
       "      <td>37</td>\n",
       "      <td>75</td>\n",
       "      <td>82</td>\n",
       "      <td>96</td>\n",
       "      <td>0</td>\n",
       "      <td>0</td>\n",
       "      <td>0</td>\n",
       "      <td>0</td>\n",
       "      <td>0</td>\n",
       "      <td>0</td>\n",
       "      <td>0</td>\n",
       "      <td>0</td>\n",
       "      <td>0</td>\n",
       "      <td>0</td>\n",
       "    </tr>\n",
       "    <tr>\n",
       "      <th>3</th>\n",
       "      <td>1</td>\n",
       "      <td>Jailbirds New Orleans</td>\n",
       "      <td>2021</td>\n",
       "      <td>Feuds, flirtations and toilet talk go down amo...</td>\n",
       "      <td>24</td>\n",
       "      <td>51</td>\n",
       "      <td>22</td>\n",
       "      <td>82</td>\n",
       "      <td>96</td>\n",
       "      <td>0</td>\n",
       "      <td>1</td>\n",
       "      <td>0</td>\n",
       "      <td>0</td>\n",
       "      <td>0</td>\n",
       "      <td>0</td>\n",
       "      <td>0</td>\n",
       "      <td>0</td>\n",
       "      <td>0</td>\n",
       "      <td>0</td>\n",
       "    </tr>\n",
       "    <tr>\n",
       "      <th>4</th>\n",
       "      <td>1</td>\n",
       "      <td>Kota Factory</td>\n",
       "      <td>2021</td>\n",
       "      <td>In a city of coaching centers known to train I...</td>\n",
       "      <td>37</td>\n",
       "      <td>54</td>\n",
       "      <td>76</td>\n",
       "      <td>30</td>\n",
       "      <td>37</td>\n",
       "      <td>0</td>\n",
       "      <td>0</td>\n",
       "      <td>0</td>\n",
       "      <td>0</td>\n",
       "      <td>0</td>\n",
       "      <td>0</td>\n",
       "      <td>0</td>\n",
       "      <td>0</td>\n",
       "      <td>0</td>\n",
       "      <td>0</td>\n",
       "    </tr>\n",
       "  </tbody>\n",
       "</table>\n",
       "</div>"
      ],
      "text/plain": [
       "   type                  title  release_year  \\\n",
       "0     0   Dick Johnson Is Dead          2020   \n",
       "1     1          Blood & Water          2021   \n",
       "2     1              Ganglands          2021   \n",
       "3     1  Jailbirds New Orleans          2021   \n",
       "4     1           Kota Factory          2021   \n",
       "\n",
       "                                         description  genre1  genre2  genre3  \\\n",
       "0  As her father nears the end of his life, filmm...      22      19      20   \n",
       "1  After crossing paths at a party, a Cape Town t...      37      69      79   \n",
       "2  To protect his family from a powerful drug lor...      20      37      75   \n",
       "3  Feuds, flirtations and toilet talk go down amo...      24      51      22   \n",
       "4  In a city of coaching centers known to train I...      37      54      76   \n",
       "\n",
       "   country1  country2  akshay kumar  anupam kher  fred tatasciore  \\\n",
       "0        82        96             0            1                0   \n",
       "1        68        81             0            0                0   \n",
       "2        82        96             0            0                0   \n",
       "3        82        96             0            1                0   \n",
       "4        30        37             0            0                0   \n",
       "\n",
       "   julie tejwani  naseeruddin shah  om puri  rupa bhimani  shah rukh khan  \\\n",
       "0              0                 0        0             0               0   \n",
       "1              0                 0        0             0               0   \n",
       "2              0                 0        0             0               0   \n",
       "3              0                 0        0             0               0   \n",
       "4              0                 0        0             0               0   \n",
       "\n",
       "   takahiro sakurai  yuki kaji  \n",
       "0                 0          0  \n",
       "1                 0          0  \n",
       "2                 0          0  \n",
       "3                 0          0  \n",
       "4                 0          0  "
      ]
     },
     "execution_count": 12,
     "metadata": {},
     "output_type": "execute_result"
    }
   ],
   "source": [
    "vectorizer = CountVectorizer(tokenizer=lambda x: x.split(', '), max_features=10)\n",
    "vectorized = vectorizer.fit_transform(df['cast'])\n",
    "df = df.join(pd.DataFrame(vectorized.toarray(), columns=vectorizer.get_feature_names()))\n",
    "df = df.drop(['cast'], axis=1)\n",
    "df.head(5)"
   ]
  },
  {
   "cell_type": "markdown",
   "id": "ffb92fc8",
   "metadata": {},
   "source": [
    "<b>Feature extraction from `title` and `description`</b>"
   ]
  },
  {
   "cell_type": "markdown",
   "id": "a2793993",
   "metadata": {},
   "source": [
    "We merge columns `title` and `description` and save them in a new column called `title_description`."
   ]
  },
  {
   "cell_type": "code",
   "execution_count": 13,
   "id": "8e537ba0",
   "metadata": {},
   "outputs": [
    {
     "data": {
      "text/html": [
       "<div>\n",
       "<style scoped>\n",
       "    .dataframe tbody tr th:only-of-type {\n",
       "        vertical-align: middle;\n",
       "    }\n",
       "\n",
       "    .dataframe tbody tr th {\n",
       "        vertical-align: top;\n",
       "    }\n",
       "\n",
       "    .dataframe thead th {\n",
       "        text-align: right;\n",
       "    }\n",
       "</style>\n",
       "<table border=\"1\" class=\"dataframe\">\n",
       "  <thead>\n",
       "    <tr style=\"text-align: right;\">\n",
       "      <th></th>\n",
       "      <th>type</th>\n",
       "      <th>release_year</th>\n",
       "      <th>genre1</th>\n",
       "      <th>genre2</th>\n",
       "      <th>genre3</th>\n",
       "      <th>country1</th>\n",
       "      <th>country2</th>\n",
       "      <th>akshay kumar</th>\n",
       "      <th>anupam kher</th>\n",
       "      <th>fred tatasciore</th>\n",
       "      <th>...</th>\n",
       "      <th>time</th>\n",
       "      <th>town</th>\n",
       "      <th>true</th>\n",
       "      <th>war</th>\n",
       "      <th>way</th>\n",
       "      <th>woman</th>\n",
       "      <th>world</th>\n",
       "      <th>year</th>\n",
       "      <th>years</th>\n",
       "      <th>young</th>\n",
       "    </tr>\n",
       "  </thead>\n",
       "  <tbody>\n",
       "    <tr>\n",
       "      <th>0</th>\n",
       "      <td>0</td>\n",
       "      <td>2020</td>\n",
       "      <td>22</td>\n",
       "      <td>19</td>\n",
       "      <td>20</td>\n",
       "      <td>82</td>\n",
       "      <td>96</td>\n",
       "      <td>0</td>\n",
       "      <td>1</td>\n",
       "      <td>0</td>\n",
       "      <td>...</td>\n",
       "      <td>0</td>\n",
       "      <td>0</td>\n",
       "      <td>0</td>\n",
       "      <td>0</td>\n",
       "      <td>0</td>\n",
       "      <td>0</td>\n",
       "      <td>0</td>\n",
       "      <td>0</td>\n",
       "      <td>0</td>\n",
       "      <td>0</td>\n",
       "    </tr>\n",
       "    <tr>\n",
       "      <th>1</th>\n",
       "      <td>1</td>\n",
       "      <td>2021</td>\n",
       "      <td>37</td>\n",
       "      <td>69</td>\n",
       "      <td>79</td>\n",
       "      <td>68</td>\n",
       "      <td>81</td>\n",
       "      <td>0</td>\n",
       "      <td>0</td>\n",
       "      <td>0</td>\n",
       "      <td>...</td>\n",
       "      <td>0</td>\n",
       "      <td>1</td>\n",
       "      <td>0</td>\n",
       "      <td>0</td>\n",
       "      <td>0</td>\n",
       "      <td>0</td>\n",
       "      <td>0</td>\n",
       "      <td>0</td>\n",
       "      <td>0</td>\n",
       "      <td>0</td>\n",
       "    </tr>\n",
       "    <tr>\n",
       "      <th>2</th>\n",
       "      <td>1</td>\n",
       "      <td>2021</td>\n",
       "      <td>20</td>\n",
       "      <td>37</td>\n",
       "      <td>75</td>\n",
       "      <td>82</td>\n",
       "      <td>96</td>\n",
       "      <td>0</td>\n",
       "      <td>0</td>\n",
       "      <td>0</td>\n",
       "      <td>...</td>\n",
       "      <td>0</td>\n",
       "      <td>0</td>\n",
       "      <td>0</td>\n",
       "      <td>1</td>\n",
       "      <td>0</td>\n",
       "      <td>0</td>\n",
       "      <td>0</td>\n",
       "      <td>0</td>\n",
       "      <td>0</td>\n",
       "      <td>0</td>\n",
       "    </tr>\n",
       "    <tr>\n",
       "      <th>3</th>\n",
       "      <td>1</td>\n",
       "      <td>2021</td>\n",
       "      <td>24</td>\n",
       "      <td>51</td>\n",
       "      <td>22</td>\n",
       "      <td>82</td>\n",
       "      <td>96</td>\n",
       "      <td>0</td>\n",
       "      <td>1</td>\n",
       "      <td>0</td>\n",
       "      <td>...</td>\n",
       "      <td>0</td>\n",
       "      <td>0</td>\n",
       "      <td>0</td>\n",
       "      <td>0</td>\n",
       "      <td>0</td>\n",
       "      <td>0</td>\n",
       "      <td>0</td>\n",
       "      <td>0</td>\n",
       "      <td>0</td>\n",
       "      <td>0</td>\n",
       "    </tr>\n",
       "    <tr>\n",
       "      <th>4</th>\n",
       "      <td>1</td>\n",
       "      <td>2021</td>\n",
       "      <td>37</td>\n",
       "      <td>54</td>\n",
       "      <td>76</td>\n",
       "      <td>30</td>\n",
       "      <td>37</td>\n",
       "      <td>0</td>\n",
       "      <td>0</td>\n",
       "      <td>0</td>\n",
       "      <td>...</td>\n",
       "      <td>0</td>\n",
       "      <td>0</td>\n",
       "      <td>0</td>\n",
       "      <td>0</td>\n",
       "      <td>0</td>\n",
       "      <td>0</td>\n",
       "      <td>0</td>\n",
       "      <td>0</td>\n",
       "      <td>0</td>\n",
       "      <td>0</td>\n",
       "    </tr>\n",
       "  </tbody>\n",
       "</table>\n",
       "<p>5 rows × 67 columns</p>\n",
       "</div>"
      ],
      "text/plain": [
       "   type  release_year  genre1  genre2  genre3  country1  country2  \\\n",
       "0     0          2020      22      19      20        82        96   \n",
       "1     1          2021      37      69      79        68        81   \n",
       "2     1          2021      20      37      75        82        96   \n",
       "3     1          2021      24      51      22        82        96   \n",
       "4     1          2021      37      54      76        30        37   \n",
       "\n",
       "   akshay kumar  anupam kher  fred tatasciore  ...  time  town  true  war  \\\n",
       "0             0            1                0  ...     0     0     0    0   \n",
       "1             0            0                0  ...     0     1     0    0   \n",
       "2             0            0                0  ...     0     0     0    1   \n",
       "3             0            1                0  ...     0     0     0    0   \n",
       "4             0            0                0  ...     0     0     0    0   \n",
       "\n",
       "   way  woman  world  year  years  young  \n",
       "0    0      0      0     0      0      0  \n",
       "1    0      0      0     0      0      0  \n",
       "2    0      0      0     0      0      0  \n",
       "3    0      0      0     0      0      0  \n",
       "4    0      0      0     0      0      0  \n",
       "\n",
       "[5 rows x 67 columns]"
      ]
     },
     "execution_count": 13,
     "metadata": {},
     "output_type": "execute_result"
    }
   ],
   "source": [
    "df['title_description'] = df['title'] + ' ' + df['description']\n",
    "df = df.drop(['title', 'description'], axis=1)\n",
    "vectorizer = CountVectorizer(analyzer='word', stop_words='english', max_features=50)\n",
    "vectorized = vectorizer.fit_transform(df['title_description'])\n",
    "df = df.join(pd.DataFrame(vectorized.toarray(), columns=vectorizer.get_feature_names()))\n",
    "df = df.drop(['title_description'], axis=1)\n",
    "df.head(5)"
   ]
  },
  {
   "cell_type": "markdown",
   "id": "ca22d073",
   "metadata": {},
   "source": [
    "<span style='color: #3973ac; font-size: 25px'><b>\n",
    "Investigate the relationships between features\n",
    "</b> </span>"
   ]
  },
  {
   "cell_type": "markdown",
   "id": "5b50962b",
   "metadata": {},
   "source": [
    "**Information Gain**, or IG for short, measures the reduction in entropy or surprise by splitting a dataset according to\n",
    "a given value of a random variable.\n",
    "Information gain is calculated by comparing the entropy of the dataset before and after a transformation.<br>\n",
    "**Mutual information** calculates the statistical dependence between two variables and is the name given to information\n",
    "gain when applied to variable selection.<br>\n",
    "So we can use `mutual_info_classif` function to calculate the IG.\n"
   ]
  },
  {
   "cell_type": "code",
   "execution_count": 14,
   "id": "3a00b92f",
   "metadata": {
    "scrolled": false
   },
   "outputs": [
    {
     "name": "stdout",
     "output_type": "stream",
     "text": [
      "genre2              0.686503\n",
      "genre3              0.684932\n",
      "genre1              0.684517\n",
      "country1            0.075325\n",
      "country2            0.073006\n",
      "                      ...   \n",
      "school              0.000000\n",
      "save                0.000000\n",
      "om puri             0.000000\n",
      "takahiro sakurai    0.000000\n",
      "high                0.000000\n",
      "Length: 66, dtype: float64\n"
     ]
    }
   ],
   "source": [
    "IG = mutual_info_classif(df.drop(['type'], axis = 1), df['type'])\n",
    "IG = pd.Series(IG)\n",
    "IG.index = df.drop(['type'], axis=1).columns\n",
    "IG = IG.sort_values(ascending = False)\n",
    "print(IG)"
   ]
  },
  {
   "cell_type": "markdown",
   "id": "381d5b75",
   "metadata": {},
   "source": [
    " Now we plot the Information Gain based on features."
   ]
  },
  {
   "cell_type": "code",
   "execution_count": 15,
   "id": "cdc7fba3",
   "metadata": {
    "scrolled": false
   },
   "outputs": [
    {
     "data": {
      "image/png": "[encoded data removed]",
      "text/plain": [
       "<Figure size 1440x720 with 1 Axes>"
      ]
     },
     "metadata": {},
     "output_type": "display_data"
    }
   ],
   "source": [
    "plt.style.use('ggplot')\n",
    "plt.figure(figsize=(20, 10))\n",
    "plt.xticks(rotation='vertical')\n",
    "plt.xlabel('Features')\n",
    "plt.ylabel('Information Gain')\n",
    "IG.plot.bar()\n",
    "plt.show()"
   ]
  },
  {
   "cell_type": "markdown",
   "id": "6c0cb511",
   "metadata": {},
   "source": [
    "### Plot Analysis"
   ]
  },
  {
   "cell_type": "markdown",
   "id": "e2c671cb",
   "metadata": {},
   "source": [
    "As can be seen in the plot above, the genre features have very high Information Gain  because the words `TV` or `MOVIE` are usually\n",
    "seen inside each genre. Therefore, since the correlation between the genre column and the target column is very high, \n",
    "the accuracy of the prediction model will be very high and overfitting won't occur."
   ]
  },
  {
   "cell_type": "markdown",
   "id": "e8015871",
   "metadata": {},
   "source": [
    "<span style='color: #3973ac; font-size: 25px'><b>\n",
    "Phase Two: Goal Prediction and Model Optimization\n",
    "</b> </span>"
   ]
  },
  {
   "cell_type": "markdown",
   "id": "7a24676a",
   "metadata": {},
   "source": [
    "We use the `train_test_split` function to divide the data into two parts, train and test."
   ]
  },
  {
   "cell_type": "code",
   "execution_count": 16,
   "id": "5fce823f",
   "metadata": {},
   "outputs": [],
   "source": [
    "X = df.drop(['type'], axis = 1)\n",
    "y = df['type']\n",
    "train_features, test_features, train_type, test_type = train_test_split(X, y, test_size = 0.2)"
   ]
  },
  {
   "cell_type": "markdown",
   "id": "74a90105",
   "metadata": {},
   "source": [
    "`print_model_info` function shown below, prints accuracy and confusion matrices of train and test datasets using confusion_matrix\n",
    "and accuracy_score functions."
   ]
  },
  {
   "cell_type": "code",
   "execution_count": 17,
   "id": "ead1b099",
   "metadata": {},
   "outputs": [],
   "source": [
    "def print_model_info(model):\n",
    "    print('Train confusion matrix:\\n', confusion_matrix(train_type, model.predict(train_features)), '\\n')\n",
    "    print('Train accuracy:', accuracy_score(train_type, model.predict(train_features)), '\\n')\n",
    "    print('Test confusion matrix:\\n', confusion_matrix(test_type, model.predict(test_features)), '\\n')\n",
    "    print('Test accuracy:', accuracy_score(test_type, model.predict(test_features)), '\\n')"
   ]
  },
  {
   "cell_type": "markdown",
   "id": "c88a39c9",
   "metadata": {},
   "source": [
    "### Before optimization"
   ]
  },
  {
   "cell_type": "code",
   "execution_count": 18,
   "id": "a51d30cf",
   "metadata": {},
   "outputs": [],
   "source": [
    "DTC = tree.DecisionTreeClassifier()\n",
    "DTC = DTC.fit(train_features, train_type)\n",
    "max_depth = DTC.tree_.max_depth"
   ]
  },
  {
   "cell_type": "code",
   "execution_count": 19,
   "id": "e267510d",
   "metadata": {
    "scrolled": false
   },
   "outputs": [
    {
     "name": "stdout",
     "output_type": "stream",
     "text": [
      "Train confusion matrix:\n",
      " [[4888    0]\n",
      " [   0 3959]] \n",
      "\n",
      "Train accuracy: 1.0 \n",
      "\n",
      "Test confusion matrix:\n",
      " [[1233   10]\n",
      " [   7  962]] \n",
      "\n",
      "Test accuracy: 0.9923146473779385 \n",
      "\n"
     ]
    }
   ],
   "source": [
    "print_model_info(DTC)"
   ]
  },
  {
   "cell_type": "markdown",
   "id": "b1b11866",
   "metadata": {},
   "source": [
    "As we expected, the accuracy of our model is very high due to the high correlation between the genre column and the target\n",
    "column.<br>\n",
    "Accuracy: $\\frac{TP + TN}{TP + TN + FP + FN}$"
   ]
  },
  {
   "cell_type": "markdown",
   "id": "adbd3425",
   "metadata": {},
   "source": [
    "### After optizimization"
   ]
  },
  {
   "cell_type": "markdown",
   "id": "b16818f5",
   "metadata": {},
   "source": [
    "- <b>max_depth: </b>\n",
    "        The maximum depth of the tree. If None, then nodes are expanded until all leaves are pure or until all leaves\n",
    "        contain less than min_samples_split samples. (default=None)</li>\n",
    "- <b>min_samples_split: </b>\n",
    "    The minimum number of samples required to split an internal node. (default=2)</li>\n"
   ]
  },
  {
   "cell_type": "code",
   "execution_count": 20,
   "id": "8fc1528c",
   "metadata": {},
   "outputs": [
    {
     "name": "stdout",
     "output_type": "stream",
     "text": [
      "Fitting 3 folds for each of 272 candidates, totalling 816 fits\n",
      "DecisionTreeClassifier(max_depth=17)\n"
     ]
    }
   ],
   "source": [
    "hyper_params = {'max_depth': list(range(1, max_depth)), 'min_samples_split': list(range(2, max_depth))}\n",
    "grid_search_cv = GridSearchCV(estimator = DecisionTreeClassifier(), param_grid = hyper_params, scoring = 'accuracy', cv = 3, verbose = 1)\n",
    "grid_search_cv = grid_search_cv.fit(train_features, train_type)\n",
    "print(grid_search_cv.best_estimator_)"
   ]
  },
  {
   "cell_type": "markdown",
   "id": "39dda5c4",
   "metadata": {},
   "source": [
    "## Question 1"
   ]
  },
  {
   "cell_type": "markdown",
   "id": "68df4069",
   "metadata": {},
   "source": [
    "Our train-test ratio is 80:20, because if we search the Internet for the best train-test ratio, \n",
    "the first answer to pop will be 80:20. This means we use 80% of the observations for training and the rest for testing. \n",
    "If the dataset is relatively small (n < 10,000), 70:30 would be a suitable choice.<br>        "
   ]
  },
  {
   "cell_type": "markdown",
   "id": "4bb962c6",
   "metadata": {},
   "source": [
    "### Train/Test Ratio = 98:2"
   ]
  },
  {
   "cell_type": "markdown",
   "id": "4a168f22",
   "metadata": {},
   "source": [
    "When a model gets trained with so much data, it starts learning from the noise and inaccurate data entries in our data set. \n",
    "This is called **Overfitting**, which leads to good performance on the train data and poor generliazation to test data.<br>\n",
    "In this case we will have high accuracy due to the high correlation between the genre column and the target column,\n",
    "but if this high correlation did not exist, we expected overfitting to occur and the accuracy of our model on the test data\n",
    "would decrease."
   ]
  },
  {
   "cell_type": "code",
   "execution_count": 21,
   "id": "3a061d86",
   "metadata": {},
   "outputs": [
    {
     "name": "stdout",
     "output_type": "stream",
     "text": [
      "Fitting 3 folds for each of 272 candidates, totalling 816 fits\n",
      "Train confusion matrix:\n",
      " [[5999    0]\n",
      " [   5 4833]] \n",
      "\n",
      "Train accuracy: 0.9995386176986251 \n",
      "\n",
      "Test confusion matrix:\n",
      " [[130   2]\n",
      " [  2  88]] \n",
      "\n",
      "Test accuracy: 0.9819819819819819 \n",
      "\n"
     ]
    }
   ],
   "source": [
    "train_features, test_features, train_type, test_type = train_test_split(X, y, test_size = 0.02)\n",
    "grid_search_cv = grid_search_cv.fit(train_features, train_type)\n",
    "print_model_info(grid_search_cv)"
   ]
  },
  {
   "cell_type": "markdown",
   "id": "8e2ab633",
   "metadata": {},
   "source": [
    "### Train/Test Ratio = 40:60"
   ]
  },
  {
   "cell_type": "markdown",
   "id": "78212aee",
   "metadata": {},
   "source": [
    "When a model gets trained with little data, our model or the algorithm does not fit the data well enough. This is called\n",
    "**Underfitting**, which leads to Poor performance on the training data and poor generalization to test data.\n",
    "In this case we will have high accuracy due to the high correlation between the genre column and the target column,\n",
    "but if this high correlation did not exist, we expected overfitting to occur and the accuracy of our model on the test \n",
    "data would decrease."
   ]
  },
  {
   "cell_type": "code",
   "execution_count": 22,
   "id": "e0f22b94",
   "metadata": {},
   "outputs": [
    {
     "name": "stdout",
     "output_type": "stream",
     "text": [
      "Fitting 3 folds for each of 272 candidates, totalling 816 fits\n",
      "Train confusion matrix:\n",
      " [[2416    6]\n",
      " [  18 1983]] \n",
      "\n",
      "Train accuracy: 0.9945738186751074 \n",
      "\n",
      "Test confusion matrix:\n",
      " [[3675   34]\n",
      " [  50 2877]] \n",
      "\n",
      "Test accuracy: 0.9873417721518988 \n",
      "\n"
     ]
    }
   ],
   "source": [
    "train_features, test_features, train_type, test_type = train_test_split(X, y, test_size = 0.6)\n",
    "grid_search_cv = grid_search_cv.fit(train_features, train_type)\n",
    "print_model_info(grid_search_cv)"
   ]
  },
  {
   "cell_type": "markdown",
   "id": "cd704cab",
   "metadata": {},
   "source": [
    "## Question 2"
   ]
  },
  {
   "cell_type": "markdown",
   "id": "b5e62e56",
   "metadata": {},
   "source": [
    "If we reduce the `max_depth` too much, the accuracy of our model will decrease to 0.75, but the more we increase the `max_depth`\n",
    "to reach its maximum value, the accuracy of our model will increase to 1.\n"
   ]
  },
  {
   "cell_type": "code",
   "execution_count": 23,
   "id": "48b1018e",
   "metadata": {},
   "outputs": [
    {
     "data": {
      "image/png": "[encoded data removed]",
      "text/plain": [
       "<Figure size 1440x720 with 1 Axes>"
      ]
     },
     "metadata": {},
     "output_type": "display_data"
    }
   ],
   "source": [
    "depth = list(range(1, max_depth))\n",
    "\n",
    "train_acc = []\n",
    "test_acc = []\n",
    "\n",
    "for d in depth:\n",
    "    model = tree.DecisionTreeClassifier(max_depth = d)\n",
    "    model.fit(train_features, train_type)\n",
    "    train_acc.append(model.score(train_features, train_type))\n",
    "    test_acc.append(model.score(test_features, test_type))\n",
    "    \n",
    "plt.style.use('ggplot')\n",
    "plt.figure(figsize=(20, 10)) \n",
    "plt.plot(depth, train_acc, label = 'Train')\n",
    "plt.plot(depth, test_acc, label = 'Test')\n",
    "plt.xlabel(\"Max depth\")\n",
    "plt.ylabel(\"Accuracy\")\n",
    "plt.legend()\n",
    "plt.show()"
   ]
  },
  {
   "cell_type": "code",
   "execution_count": 24,
   "id": "983760df",
   "metadata": {},
   "outputs": [
    {
     "name": "stdout",
     "output_type": "stream",
     "text": [
      "Train confusion matrix:\n",
      " [[1935  487]\n",
      " [ 595 1406]] \n",
      "\n",
      "Train accuracy: 0.7553696586027583 \n",
      "\n",
      "Test confusion matrix:\n",
      " [[2908  801]\n",
      " [ 790 2137]] \n",
      "\n",
      "Test accuracy: 0.7602471368294154 \n",
      "\n"
     ]
    }
   ],
   "source": [
    "DTC = tree.DecisionTreeClassifier(max_depth = 1)\n",
    "DTC.fit(train_features, train_type)\n",
    "print_model_info(DTC)"
   ]
  },
  {
   "cell_type": "code",
   "execution_count": 25,
   "id": "370cdf91",
   "metadata": {},
   "outputs": [
    {
     "name": "stdout",
     "output_type": "stream",
     "text": [
      "Train confusion matrix:\n",
      " [[2418    4]\n",
      " [  32 1969]] \n",
      "\n",
      "Train accuracy: 0.9918607280126611 \n",
      "\n",
      "Test confusion matrix:\n",
      " [[3673   36]\n",
      " [  80 2847]] \n",
      "\n",
      "Test accuracy: 0.9825195901145268 \n",
      "\n"
     ]
    }
   ],
   "source": [
    "DTC = tree.DecisionTreeClassifier(max_depth = max_depth // 2)\n",
    "DTC.fit(train_features, train_type)\n",
    "print_model_info(DTC)"
   ]
  },
  {
   "cell_type": "code",
   "execution_count": 26,
   "id": "c50408f8",
   "metadata": {
    "scrolled": true
   },
   "outputs": [
    {
     "name": "stdout",
     "output_type": "stream",
     "text": [
      "Train confusion matrix:\n",
      " [[2422    0]\n",
      " [   0 2001]] \n",
      "\n",
      "Train accuracy: 1.0 \n",
      "\n",
      "Test confusion matrix:\n",
      " [[3659   50]\n",
      " [  42 2885]] \n",
      "\n",
      "Test accuracy: 0.9861362266425557 \n",
      "\n"
     ]
    }
   ],
   "source": [
    "DTC = tree.DecisionTreeClassifier(max_depth = max_depth)\n",
    "DTC.fit(train_features, train_type)\n",
    "print_model_info(DTC)"
   ]
  },
  {
   "cell_type": "markdown",
   "id": "eb7ec75c",
   "metadata": {},
   "source": [
    "From the above diagram and confusion matrices we can conclude that the closer the `max_depth` is to the maximum value, \n",
    "the better our model learns and the higher the accuracy.\n"
   ]
  },
  {
   "cell_type": "markdown",
   "id": "96e56498",
   "metadata": {},
   "source": [
    "<span style='color: #3973ac; font-size: 25px'><b>\n",
    "Phase Three: Prediction Using Random Forest\n",
    "</b> </span>"
   ]
  },
  {
   "cell_type": "markdown",
   "id": "3c1a8c8c",
   "metadata": {},
   "source": [
    "## Hyperparameters"
   ]
  },
  {
   "cell_type": "markdown",
   "id": "ba015ccb",
   "metadata": {},
   "source": [
    "- <b>n_estimators:</b>\n",
    "    The number of trees in the forest (default: 100)</li>\n",
    "- <b>max_depth</b>\n",
    "The maximum depth of the tree. If None, then nodes are expanded until all leaves are pure or until all leaves\n",
    "contain less than `min_samples_split` samples (default: None)"
   ]
  },
  {
   "cell_type": "code",
   "execution_count": 27,
   "id": "c27c7228",
   "metadata": {},
   "outputs": [
    {
     "name": "stdout",
     "output_type": "stream",
     "text": [
      "Accuracy:  0.989451476793249\n"
     ]
    }
   ],
   "source": [
    "RFC = RandomForestClassifier() \n",
    "RFC.fit(train_features, train_type)\n",
    "test_pred = RFC.predict(test_features)\n",
    "print(\"Accuracy: \", metrics.accuracy_score(test_type, test_pred))"
   ]
  },
  {
   "cell_type": "markdown",
   "id": "c87d704f",
   "metadata": {},
   "source": [
    "We plot accuracy based on  `n_estimators` and `max_depth` features.\n"
   ]
  },
  {
   "cell_type": "code",
   "execution_count": 28,
   "id": "4a49cf26",
   "metadata": {},
   "outputs": [
    {
     "data": {
      "image/png": "[encoded data removed]",
      "text/plain": [
       "<Figure size 1440x720 with 1 Axes>"
      ]
     },
     "metadata": {},
     "output_type": "display_data"
    }
   ],
   "source": [
    "n_estimators = list(range(1, 200, 10))\n",
    "\n",
    "train_acc = []\n",
    "test_acc = []\n",
    "\n",
    "for estimator in n_estimators:\n",
    "    model = RandomForestClassifier(n_estimators = estimator) \n",
    "    model.fit(train_features, train_type)\n",
    "    train_acc.append(model.score(train_features, train_type))\n",
    "    test_acc.append(model.score(test_features, test_type))\n",
    "    \n",
    "plt.style.use('ggplot')\n",
    "plt.figure(figsize=(20, 10)) \n",
    "plt.plot(n_estimators, train_acc, label = 'Train')\n",
    "plt.plot(n_estimators, test_acc, label = 'Test')\n",
    "plt.xlabel(\"n_estimators\")\n",
    "plt.ylabel(\"Accuracy\")\n",
    "plt.legend()\n",
    "plt.show()"
   ]
  },
  {
   "cell_type": "code",
   "execution_count": 29,
   "id": "611a2d80",
   "metadata": {
    "scrolled": false
   },
   "outputs": [
    {
     "data": {
      "image/png": "[encoded data removed]",
      "text/plain": [
       "<Figure size 1440x720 with 1 Axes>"
      ]
     },
     "metadata": {},
     "output_type": "display_data"
    }
   ],
   "source": [
    "depth = list(range(1, max_depth))\n",
    "\n",
    "train_acc = []\n",
    "test_acc = []\n",
    "\n",
    "for d in depth:\n",
    "    model = RandomForestClassifier(max_depth = d)\n",
    "    model.fit(train_features, train_type)\n",
    "    train_acc.append(model.score(train_features, train_type))\n",
    "    test_acc.append(model.score(test_features, test_type))\n",
    "\n",
    "plt.style.use('ggplot')\n",
    "plt.figure(figsize=(20, 10)) \n",
    "plt.plot(depth, train_acc, label = 'Train')\n",
    "plt.plot(depth, test_acc, label = 'Test')\n",
    "plt.xlabel(\"Max depth\")\n",
    "plt.ylabel(\"Accuracy\")\n",
    "plt.legend()\n",
    "plt.show()"
   ]
  },
  {
   "cell_type": "markdown",
   "id": "1ca5dff9",
   "metadata": {},
   "source": [
    "According to the diagrams above, as we expected, the more the `n_estimator` and `max_depth` parameters increase, \n",
    "the better our model will learn and the more accurate it will be.<br>\n",
    "The more uncorrelated trees in our forest, the closer their individual errors get to\n",
    "averaging out.<br>\n",
    "`max_depth` has the consequence that our Random Forest can no more fit the training data as closely, \n",
    "and is consequently more stable. It has lower variance, giving our model lower error. "
   ]
  },
  {
   "cell_type": "markdown",
   "id": "cf2df822",
   "metadata": {},
   "source": [
    "## Random Forest vs. Decision Tree"
   ]
  },
  {
   "cell_type": "markdown",
   "id": "1f05df4d",
   "metadata": {},
   "source": [
    "As we expected, again due to the high correlation between the genre column and the target column,\n",
    "the random model works well and has high accuracy similar to Decision Tree.<br><br>\n",
    "If our model is too simple and has very few parameters then it may have high bias and low variance. On the other\n",
    "hand if our model has large number of parameters then it’s going to have high variance and low bias.<br>\n",
    "An algorithm like Decision Tree has low bias but high variance, because it can easily change as small change in input \n",
    "variable. In general, it does not generalize the pattern well. It leads to overfitting.<br>\n",
    "In Random Forests the bias of the full model is equivalent to the bias of a single decision tree \n",
    "(which itself has high variance). By creating many of these trees, in effect a \"forest\", and then\n",
    "averaging them the variance of the final model can be greatly reduced over that of a single tree."
   ]
  },
  {
   "cell_type": "markdown",
   "id": "fb234f5b",
   "metadata": {},
   "source": [
    "<span style='color: #3973ac; font-size: 23px'><b>\n",
    "Conclusion\n",
    "</b></span>"
   ]
  },
  {
   "cell_type": "markdown",
   "id": "598d7290",
   "metadata": {},
   "source": [
    "Random Forest is suitable for situations when we have a large dataset, and interpretability is not a major concern.<br>\n",
    "Decision trees are much easier to interpret and understand. Since a random forest combines multiple decision trees,\n",
    "it becomes more difficult to interpret.\n",
    "Also, Random Forest has a higher training time than a single decision tree.\n",
    "As we increase the number of trees in a random forest, the time taken to train each of them also increases.\n",
    "That can often be crucial when we’re working with a tight deadline in a machine learning project.<br>\n",
    "In my opinion despite, instability and dependency on a particular set of features, decision trees are really helpful because \n",
    "they are easier to interpret and faster to train."
   ]
  }
 ],
 "metadata": {
  "kernelspec": {
   "display_name": "Python 3",
   "language": "python",
   "name": "python3"
  },
  "language_info": {
   "codemirror_mode": {
    "name": "ipython",
    "version": 3
   },
   "file_extension": ".py",
   "mimetype": "text/x-python",
   "name": "python",
   "nbconvert_exporter": "python",
   "pygments_lexer": "ipython3",
   "version": "3.8.8"
  }
 },
 "nbformat": 4,
 "nbformat_minor": 5
}
